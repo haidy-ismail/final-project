{
 "cells": [
  {
   "cell_type": "code",
   "execution_count": 3,
   "metadata": {},
   "outputs": [],
   "source": [
    "import numpy as np\n",
    "import pandas\n",
    "import joblib"
   ]
  },
  {
   "cell_type": "code",
   "execution_count": 4,
   "metadata": {},
   "outputs": [],
   "source": [
    "\n",
    "def preprocess_Type(Type):\n",
    "    if Type.lower() == 't':\n",
    "        return [1,0]\n",
    "    if Type.lower() == 'u':\n",
    "        return [0,1]\n",
    "    else:\n",
    "        return [0,0]\n",
    "\n",
    "def preprocess_Method(Method) :\n",
    "    if Method.lower() == 's':\n",
    "        return [1,0,0,0]\n",
    "    if Method.lower() == 'sa':\n",
    "        return [0,1,0,0]\n",
    "    if Method.lower() == 'sp':\n",
    "        return [0,0,1,0]\n",
    "    if Method.lower() == 'vb':\n",
    "        return [0,0,0,1]\n",
    "    else:\n",
    "        return [0,0,0,0]\n",
    "    \n",
    "    \n",
    "def Month_name(month):\n",
    "    if month.lower() == 'august':\n",
    "        return [1,0,0,0,0,0,0,0,0,0,0]\n",
    "    if month.lower() == 'december':\n",
    "        return [0,1,0,0,0,0,0,0,0,0,0]\n",
    "    if month.lower() == 'february':\n",
    "        return [0,0,1,0,0,0,0,0,0,0,0]\n",
    "    if month.lower() == 'january':\n",
    "        return [0,0,0,1,0,0,0,0,0,0,0]\n",
    "    if month.lower() == 'july':\n",
    "        return [0,0,0,0,1,0,0,0,0,0,0]\n",
    "    if month.lower() == 'june':\n",
    "        return [0,0,0,0,0,1,0,0,0,0,0]\n",
    "    if month.lower() == 'march':\n",
    "        return [0,0,0,0,0,0,1,0,0,0,0]\n",
    "    if month.lower() == 'may':\n",
    "        return [0,0,0,0,0,0,0,1,0,0,0]\n",
    "    if month.lower() == 'november':\n",
    "        return [0,0,0,0,0,0,0,0,1,0,0]\n",
    "    if month.lower() == 'october':\n",
    "        return [0,0,0,0,0,0,0,0,0,1,0]\n",
    "    if month.lower() == 'September':\n",
    "        return [0,0,0,0,0,0,0,0,0,0,1]\n",
    "    else:\n",
    "        return [0,0,0,0,0,0,0,0,0,0,0]\n",
    "\n",
    "    \n",
    "            \n",
    "def day_name(day) :\n",
    "    if day.lower() == 'monday' :\n",
    "        return [1,0,0,0,0,0]\n",
    "    elif day.lower() == 'saturday' :\n",
    "        return [0,1,0,0,0,0]\n",
    "    elif day.lower() == 'sunday' :\n",
    "        return [0,0,1,0,0,0]\n",
    "    elif day.lower() == 'thursday' :\n",
    "        return [0,0,0,1,0,0]\n",
    "    elif day.lower() == 'tuesday' :\n",
    "        return [0,0,0,0,1,0]\n",
    "    elif day.lower() == 'wednesday' :\n",
    "        return [0,0,0,0,0,1]\n",
    "    else :\n",
    "        return [0,0,0,0,0,0]\n",
    "\n",
    "    \n",
    "def preprocess(data) :\n",
    "    \n",
    "    Distance = data['Distance']\n",
    "    \n",
    "    Postcode = data['Postcode']\n",
    "    \n",
    "    Car = data['Car']\n",
    "    \n",
    "    Landsize = data['Landsize']\n",
    "    \n",
    "    BuildingArea = data['BuildingArea']\n",
    "    \n",
    "    YearBuilt = data['YearBuilt']\n",
    "    \n",
    "    Propertycount = data['Propertycount']\n",
    "    \n",
    "    year = data['year']\n",
    "    \n",
    "    house_rooms = data['house_rooms']\n",
    "    \n",
    "    method_features = preprocess_Method(data['Method'])\n",
    "    \n",
    "    type_features = preprocess_Type(data['Type'])\n",
    "    \n",
    "    day = day_name(data['day'])\n",
    "    \n",
    "    month = Month_name(data['month'])\n",
    "    \n",
    "    final_data = [Distance,Postcode,Car,Landsize,BuildingArea,YearBuilt,Propertycount,year,house_rooms]+method_features+type_features+day+month\n",
    "    \n",
    "    return np.array(final_data)\n",
    "    \n",
    "    "
   ]
  },
  {
   "cell_type": "code",
   "execution_count": 6,
   "metadata": {},
   "outputs": [],
   "source": [
    "model1 = joblib.load('dep.h5')\n",
    "\n",
    "scaler = joblib.load('scaler.h5')"
   ]
  },
  {
   "cell_type": "code",
   "execution_count": 7,
   "metadata": {},
   "outputs": [],
   "source": [
    "x = ['Distance', 'Postcode', 'Car', 'Landsize', 'BuildingArea', 'YearBuilt',\n",
    "       'Propertycount', 'year', 'house_rooms', 'Method_S', 'Method_SA',\n",
    "       'Method_SP', 'Method_VB', 'Type_t', 'Type_u', 'day_Monday',\n",
    "       'day_Saturday', 'day_Sunday', 'day_Thursday', 'day_Tuesday',\n",
    "       'day_Wednesday', 'month_August', 'month_December', 'month_February',\n",
    "       'month_January', 'month_July', 'month_June', 'month_March', 'month_May',\n",
    "       'month_November', 'month_October', 'month_September']"
   ]
  },
  {
   "cell_type": "code",
   "execution_count": 9,
   "metadata": {},
   "outputs": [
    {
     "name": "stdout",
     "output_type": "stream",
     "text": [
      "Distance\n",
      "enter the Distance2.0\n",
      "Postcode\n",
      "enter the Postcode3067.0\n",
      "Car\n",
      "enter the Car2\n",
      "Landsize\n",
      "enter the Landsize200\n",
      "BuildingArea\n",
      "enter the BuildingArea100\n",
      "YearBuilt\n",
      "enter the YearBuilt1998\n",
      "Propertycount\n",
      "enter the Propertycount4019\n",
      "year\n",
      "enter the year2017\n",
      "house_rooms\n",
      "enter the house_rooms3\n",
      "Method\n",
      "enter the Methodsp\n",
      "Type\n",
      "enter the Typeh\n",
      "day\n",
      "enter the dayThursday\n",
      "month\n",
      "enter the monthmay\n"
     ]
    }
   ],
   "source": [
    "inputs = ['Distance', 'Postcode', 'Car', 'Landsize', 'BuildingArea', 'YearBuilt',\n",
    "       'Propertycount', 'year', 'house_rooms', 'Method', 'Type','day','month']\n",
    "\n",
    "data = {key : None for key in inputs}\n",
    "\n",
    "for key in data.keys() :\n",
    "    print(key)\n",
    "    value = input(f'enter the {key}')\n",
    "    data[key] = value"
   ]
  },
  {
   "cell_type": "code",
   "execution_count": 10,
   "metadata": {},
   "outputs": [
    {
     "name": "stdout",
     "output_type": "stream",
     "text": [
      "['2.0' '3067.0' '2' '200' '100' '1998' '4019' '2017' '3' '0' '0' '1' '0'\n",
      " '0' '0' '0' '0' '0' '1' '0' '0' '0' '0' '0' '0' '0' '0' '0' '1' '0' '0'\n",
      " '0']\n"
     ]
    }
   ],
   "source": [
    "final_data = preprocess(data)\n",
    "print(final_data)"
   ]
  },
  {
   "cell_type": "code",
   "execution_count": 11,
   "metadata": {},
   "outputs": [
    {
     "name": "stderr",
     "output_type": "stream",
     "text": [
      "C:\\Users\\Haidy Ismail\\Anaconda3\\lib\\site-packages\\sklearn\\base.py:451: UserWarning: X does not have valid feature names, but StandardScaler was fitted with feature names\n",
      "  \"X does not have valid feature names, but\"\n"
     ]
    },
    {
     "data": {
      "text/plain": [
       "array([[-1.39193781, -0.40238653,  0.4364631 , -0.2059364 , -0.08675617,\n",
       "         1.10480069, -0.77799648,  0.92928558, -1.86787904, -1.40856314,\n",
       "        -0.08318504,  2.63384153, -0.30431252, -0.30281235, -0.54657844,\n",
       "        -0.39272889, -1.17314782, -0.32734413,  6.60174058, -0.1786386 ,\n",
       "        -0.30412527, -0.39837649, -0.23763142, -0.16015167, -0.14611362,\n",
       "        -0.39724991, -0.3492488 , -0.33796282,  2.68051418, -0.23695821,\n",
       "        -0.25760692, -0.30841309]])"
      ]
     },
     "execution_count": 11,
     "metadata": {},
     "output_type": "execute_result"
    }
   ],
   "source": [
    "final_data= scaler.transform([final_data])\n",
    "final_data"
   ]
  },
  {
   "cell_type": "code",
   "execution_count": 12,
   "metadata": {},
   "outputs": [],
   "source": [
    "pred = model1.predict(final_data)"
   ]
  },
  {
   "cell_type": "code",
   "execution_count": 13,
   "metadata": {},
   "outputs": [
    {
     "data": {
      "text/plain": [
       "997108.4"
      ]
     },
     "execution_count": 13,
     "metadata": {},
     "output_type": "execute_result"
    }
   ],
   "source": [
    "pred[0]"
   ]
  },
  {
   "cell_type": "code",
   "execution_count": null,
   "metadata": {},
   "outputs": [],
   "source": []
  }
 ],
 "metadata": {
  "kernelspec": {
   "display_name": "Python 3",
   "language": "python",
   "name": "python3"
  },
  "language_info": {
   "codemirror_mode": {
    "name": "ipython",
    "version": 3
   },
   "file_extension": ".py",
   "mimetype": "text/x-python",
   "name": "python",
   "nbconvert_exporter": "python",
   "pygments_lexer": "ipython3",
   "version": "3.7.4"
  },
  "toc": {
   "base_numbering": 1,
   "nav_menu": {},
   "number_sections": true,
   "sideBar": true,
   "skip_h1_title": false,
   "title_cell": "Table of Contents",
   "title_sidebar": "Contents",
   "toc_cell": false,
   "toc_position": {},
   "toc_section_display": true,
   "toc_window_display": false
  }
 },
 "nbformat": 4,
 "nbformat_minor": 2
}
